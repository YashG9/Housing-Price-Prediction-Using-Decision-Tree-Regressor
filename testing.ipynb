{
 "cells": [
  {
   "cell_type": "code",
   "execution_count": 1,
   "id": "d27258a6",
   "metadata": {},
   "outputs": [],
   "source": [
    "from joblib import dump ,load\n",
    "import numpy as np\n",
    "model = load('yashrealstate.joblib')"
   ]
  },
  {
   "cell_type": "code",
   "execution_count": 2,
   "id": "64ddfb21",
   "metadata": {},
   "outputs": [
    {
     "name": "stdout",
     "output_type": "stream",
     "text": [
      "ENTER THE VALUES IN SAME SEQUENCE AS FOLLOWS-\n",
      "    1. CRIM      per capita crime rate by town\n",
      "    2. ZN        proportion of residential land zoned forlots over \n",
      "                 25,000 sq.ft.\n",
      "    3. INDUS     proportion of non-retail business acres per town\n",
      "    4. CHAS      Charles River dummy variable (= 1 if tract bounds \n",
      "                 river; 0 otherwise)\n",
      "    5. NOX       nitric oxides concentration (parts per 10 million)\n",
      "    6. RM        average number of rooms per dwelling\n",
      "    7. AGE       proportion of owner-occupied units built prior to 1940\n",
      "    8. DIS       weighted distances to five Boston employment centres\n",
      "    9. RAD       index of accessibility to radial highways\n",
      "    10. TAX      full-value propeetytax rate per10000 dollars\n",
      "    11. PTRATIO  pupil-teacher ratio by town\n",
      "    12. B        1000(Bk - 0.63)^2 where Bk is the proportion of blacks \n",
      "                 by town\n",
      "    13. LSTAT    % lower status of the population\n"
     ]
    }
   ],
   "source": [
    "a= \"\"\"ENTER THE VALUES IN SAME SEQUENCE AS FOLLOWS-\n",
    "    1. CRIM      per capita crime rate by town\n",
    "    2. ZN        proportion of residential land zoned forlots over \n",
    "                 25,000 sq.ft.\n",
    "    3. INDUS     proportion of non-retail business acres per town\n",
    "    4. CHAS      Charles River dummy variable (= 1 if tract bounds \n",
    "                 river; 0 otherwise)\n",
    "    5. NOX       nitric oxides concentration (parts per 10 million)\n",
    "    6. RM        average number of rooms per dwelling\n",
    "    7. AGE       proportion of owner-occupied units built prior to 1940\n",
    "    8. DIS       weighted distances to five Boston employment centres\n",
    "    9. RAD       index of accessibility to radial highways\n",
    "    10. TAX      full-value propeetytax rate per10000 dollars\n",
    "    11. PTRATIO  pupil-teacher ratio by town\n",
    "    12. B        1000(Bk - 0.63)^2 where Bk is the proportion of blacks \n",
    "                 by town\n",
    "    13. LSTAT    % lower status of the population\"\"\"\n",
    "    \n",
    "print(a)   \n",
    "      \n",
    "      "
   ]
  },
  {
   "cell_type": "code",
   "execution_count": 3,
   "id": "6295147b",
   "metadata": {},
   "outputs": [],
   "source": [
    "#Input as on index 1 input CRIM value on 2 input ZN value and so on...."
   ]
  },
  {
   "cell_type": "code",
   "execution_count": null,
   "id": "b801a7b5",
   "metadata": {},
   "outputs": [],
   "source": [
    "inp = []\n",
    "for i in range(1):\n",
    "    temp = []\n",
    "    for j in range(13):\n",
    "        x = float(input())\n",
    "        temp.append(x)\n",
    "    inp.append(temp)\n",
    "inp = np.array(inp)\n",
    "print(type(inp))\n",
    "print(inp)"
   ]
  },
  {
   "cell_type": "code",
   "execution_count": null,
   "id": "9be472c5",
   "metadata": {},
   "outputs": [],
   "source": [
    "features = inp\n",
    "model.predict(features)"
   ]
  }
 ],
 "metadata": {
  "kernelspec": {
   "display_name": "Python 3 (ipykernel)",
   "language": "python",
   "name": "python3"
  },
  "language_info": {
   "codemirror_mode": {
    "name": "ipython",
    "version": 3
   },
   "file_extension": ".py",
   "mimetype": "text/x-python",
   "name": "python",
   "nbconvert_exporter": "python",
   "pygments_lexer": "ipython3",
   "version": "3.10.0"
  }
 },
 "nbformat": 4,
 "nbformat_minor": 5
}
